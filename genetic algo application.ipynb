{
 "cells": [
  {
   "cell_type": "markdown",
   "metadata": {},
   "source": [
    "## Apply GA to the following problem\n",
    "reference: https://applenob.github.io/ga.html\n",
    "\n",
    "Target: f(x) = x + 10sin(5x) + 7cos(4x), get maximum from x in [0,10]"
   ]
  },
  {
   "cell_type": "markdown",
   "metadata": {},
   "source": [
    "Set up: x in [0,10], split into 100000 pieces. 100000's in [2^16,2^17] so x is a vector of 17 binary digits."
   ]
  },
  {
   "cell_type": "code",
   "execution_count": 118,
   "metadata": {
    "collapsed": true
   },
   "outputs": [],
   "source": [
    "import math\n",
    "import random\n",
    "import operator\n",
    "import numpy as np"
   ]
  },
  {
   "cell_type": "code",
   "execution_count": 130,
   "metadata": {
    "collapsed": true
   },
   "outputs": [],
   "source": [
    "class GA_max():\n",
    "    def __init__(self,length,count,range_x,target,retain_rate,random_select_rate,mutation_rate):\n",
    "        #initial settings, get length,count and initial population\n",
    "        self.length = length\n",
    "        self.count = count\n",
    "        self.range_x = range_x\n",
    "        self.target= target\n",
    "        self.retain_rate= retain_rate\n",
    "        self.random_select_rate= random_select_rate\n",
    "        self.mutation_rate= mutation_rate\n",
    "        self.population = self.get_population(length,count)\n",
    "        \n",
    "    def get_population(self,length,count):\n",
    "        return [self.get_chromesome(length) for i in range(count)]\n",
    "    \n",
    "    def get_chromesome(self,length):\n",
    "        #generate random chromesome\n",
    "        chromosome = 0\n",
    "        for i in range(length):\n",
    "            chromosome |= (1<<i) * random.randint(0, 1)\n",
    "        return chromosome\n",
    "    \n",
    "    def decode(self,chromosome):\n",
    "        #since chromosome is from 0-131071, we need to convert it to 0-10\n",
    "        return 1.0 * chromosome * self.range_x / (2**self.length-1)\n",
    "    \n",
    "    \n",
    "    def fit_target(self, chromosome,target):\n",
    "        #feed teh chromesome into the target function\n",
    "        x = self.decode(chromosome)\n",
    "        return target(x)\n",
    "    \n",
    "    def selection(self, retain_rate, random_select_rate,target):\n",
    "        #list all populations, sort\n",
    "        clist = [(self.fit_target(chromosome,target), chromosome) for chromosome in self.population]\n",
    "        clist = [x[1] for x in sorted(clist, reverse=True)]\n",
    "        #select strong\n",
    "        retain_length  = int(len(clist) * retain_rate)\n",
    "        parents = clist[:retain_length]\n",
    "        #select weak at random\n",
    "        for chromosome in clist[retain_length:]:\n",
    "            if random.random() < random_select_rate:\n",
    "                parents.append(chromosome)\n",
    "        return parents\n",
    "    \n",
    "\n",
    "    def crossover(self, parents):\n",
    "       #generate children \n",
    "        children = []\n",
    "        #count needed\n",
    "        target_count = len(self.population) - len(parents)\n",
    "        #when children is not enough, loop\n",
    "        while len(children) < target_count:\n",
    "            male = random.randint(0, len(parents)-1)\n",
    "            female = random.randint(0, len(parents)-1)\n",
    "            if male != female:\n",
    "                cross_pos = random.randint(0, self.length)\n",
    "                #mask first\n",
    "                mask = 0\n",
    "                for i in range(cross_pos):\n",
    "                    mask |= (1 << i) \n",
    "                male = parents[male]\n",
    "                female = parents[female]               \n",
    "                # child get everything after pos from male and before from female\n",
    "                child = ((male & mask) | (female & ~mask)) & ((1 << self.length) - 1)\n",
    "                children.append(child)\n",
    "        #The next generation is comprised of parents and children\n",
    "        self.population = parents + children\n",
    "        \n",
    "\n",
    "    def mutation(self, rate):\n",
    "        #randomly mutate one element in each chromosome\n",
    "        for i in range(self.length):\n",
    "            if random.random() < rate:\n",
    "                j = random.randint(0, self.length-1)\n",
    "                self.population[i] ^= 1 << j\n",
    "\n",
    "    \n",
    "    def evolve(self, retain_rate, random_select_rate, mutation_rate,target):\n",
    "        parents = self.selection(retain_rate, random_select_rate,target)\n",
    "        self.crossover(parents)\n",
    "        self.mutation(mutation_rate)\n",
    "\n",
    "\n",
    "    def result(self):\n",
    "        graded = [(self.fit_target(chromosome,target), chromosome) for chromosome in self.population]\n",
    "        graded = [x[1] for x in sorted(graded, reverse=True)]\n",
    "        return self.decode(graded[0])\n",
    "    "
   ]
  },
  {
   "cell_type": "code",
   "execution_count": null,
   "metadata": {
    "collapsed": true
   },
   "outputs": [],
   "source": []
  },
  {
   "cell_type": "markdown",
   "metadata": {},
   "source": [
    "test"
   ]
  },
  {
   "cell_type": "code",
   "execution_count": 139,
   "metadata": {
    "collapsed": true
   },
   "outputs": [],
   "source": [
    "def target(x):\n",
    "    return x + 10 * np.sin(5*x) + 7 * np.cos(4*x)"
   ]
  },
  {
   "cell_type": "code",
   "execution_count": 160,
   "metadata": {},
   "outputs": [],
   "source": [
    "ga = GA_max(17, 200,10,target,0.2,0.5,0.05)"
   ]
  },
  {
   "cell_type": "code",
   "execution_count": 161,
   "metadata": {},
   "outputs": [],
   "source": [
    "for x in range(200):\n",
    "         ga.evolve(ga.retain_rate,ga.random_select_rate,ga.mutation_rate,ga.target)"
   ]
  },
  {
   "cell_type": "code",
   "execution_count": 162,
   "metadata": {},
   "outputs": [
    {
     "data": {
      "text/plain": [
       "7.856734136460392"
      ]
     },
     "execution_count": 162,
     "metadata": {},
     "output_type": "execute_result"
    }
   ],
   "source": [
    "ga.result()"
   ]
  },
  {
   "cell_type": "code",
   "execution_count": null,
   "metadata": {
    "collapsed": true
   },
   "outputs": [],
   "source": []
  },
  {
   "cell_type": "code",
   "execution_count": null,
   "metadata": {
    "collapsed": true
   },
   "outputs": [],
   "source": []
  },
  {
   "cell_type": "code",
   "execution_count": null,
   "metadata": {
    "collapsed": true
   },
   "outputs": [],
   "source": []
  }
 ],
 "metadata": {
  "kernelspec": {
   "display_name": "Python 3",
   "language": "python",
   "name": "python3"
  },
  "language_info": {
   "codemirror_mode": {
    "name": "ipython",
    "version": 3
   },
   "file_extension": ".py",
   "mimetype": "text/x-python",
   "name": "python",
   "nbconvert_exporter": "python",
   "pygments_lexer": "ipython3",
   "version": "3.6.3"
  }
 },
 "nbformat": 4,
 "nbformat_minor": 2
}
